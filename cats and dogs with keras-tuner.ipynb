{
 "cells": [
  {
   "cell_type": "code",
   "execution_count": 1,
   "id": "05daa9b9",
   "metadata": {},
   "outputs": [],
   "source": [
    "# import libraries\n",
    "import numpy as np\n",
    "import pandas as pd\n",
    "from tensorflow.keras.preprocessing.image import load_img, img_to_array, array_to_img, ImageDataGenerator\n",
    "import kerastuner\n",
    "from tensorflow import keras\n",
    "from tensorflow.keras import layers\n",
    "from kerastuner.tuners import RandomSearch\n",
    "from tensorflow.keras.models import Sequential\n",
    "from tensorflow.keras.layers import Conv2D, MaxPool2D, Dropout, Dense, Flatten"
   ]
  },
  {
   "cell_type": "code",
   "execution_count": null,
   "id": "d2529cbd",
   "metadata": {},
   "outputs": [],
   "source": [
    "train_datagen = ImageDataGenerator(\n",
    "    rotation_range= 0.2,\n",
    "    width_shift_range= 0.2,\n",
    "    height_shift_range= 0.2,\n",
    "    zoom_range= 0.2,\n",
    "    horizontal_flip= True,\n",
    "    rescale= 1/255.0\n",
    ")\n",
    "test_datagen = ImageDataGenerator(\n",
    "    rescale= 1/255.0\n",
    ")"
   ]
  },
  {
   "cell_type": "code",
   "execution_count": null,
   "id": "be58e7d7",
   "metadata": {},
   "outputs": [],
   "source": [
    "train_images = train_datagen.flow_from_directory(\"Dataset\", target_size=(256,256), color_mode= \"rgb\")\n",
    "test_images = test_datagen.flow_from_directory(\"validation_dataset\", target_size=(256,256), color_mode= \"rgb\")"
   ]
  },
  {
   "cell_type": "code",
   "execution_count": null,
   "id": "681dd78e",
   "metadata": {},
   "outputs": [],
   "source": [
    "# using keras tuner"
   ]
  },
  {
   "cell_type": "code",
   "execution_count": null,
   "id": "e86717e1",
   "metadata": {},
   "outputs": [],
   "source": [
    "def build_model(hp):\n",
    "    model = keras.Sequential()\n",
    "    model.add(Conv2D(32, (3,3),activation = \"relu\", input_shape = (256,256,3)))\n",
    "    model.add(MaxPool2D((2,2)))       \n",
    "    for i in range(hp.Int('CNN_layers', 2, 20)):\n",
    "        model.add(Conv2D(hp.Choice('conv2D',[32,64,128]), (3,3),activation = \"relu\"))\n",
    "        model.add(MaxPool2D((2,2)))\n",
    "    model.add(Flatten()) \n",
    "    for i in range(hp.Int(\"Ann_layers\", 2,20)):\n",
    "        model.add(Dense(hp.Int('Dense', min_value = 32,max_value = 256,step = 32), activation = \"relu\"))\n",
    "    model.add(Dense(2, activation = \"sigmoid\"))\n",
    "    model.compile(optimizer= \"adam\", loss= \"binary_crossentropy\", metrics = [\"accuracy\"])\n",
    "#     model.fit(train_images, epochs= 5, validation_data= test_images)   \n",
    "    return model"
   ]
  },
  {
   "cell_type": "code",
   "execution_count": null,
   "id": "7c6a94eb",
   "metadata": {},
   "outputs": [],
   "source": [
    "tuner = RandomSearch(\n",
    "    build_model,\n",
    "    objective='val_accuracy',\n",
    "    max_trials=5,\n",
    "    executions_per_trial=3,\n",
    "    directory='CNN',\n",
    "    project_name='First')"
   ]
  },
  {
   "cell_type": "code",
   "execution_count": null,
   "id": "7f53879c",
   "metadata": {},
   "outputs": [],
   "source": [
    "tuner.search(train_images, train_images_labels\n",
    "             epochs=5,\n",
    "             validation_data=(test_images, test_images_labels))"
   ]
  },
  {
   "cell_type": "code",
   "execution_count": null,
   "id": "12774f14",
   "metadata": {},
   "outputs": [],
   "source": [
    "best_hyperparameter=tuner.get_best_hyperparameters(num_trials=1)[0]"
   ]
  },
  {
   "cell_type": "code",
   "execution_count": null,
   "id": "2118360d",
   "metadata": {},
   "outputs": [],
   "source": [
    "model = tuner.hypermodel.build(best_hyperparameter)"
   ]
  },
  {
   "cell_type": "code",
   "execution_count": null,
   "id": "4fc4ffcf",
   "metadata": {},
   "outputs": [],
   "source": [
    "model.fit(X_train, y_train, epochs = 100, validation_split= 0.3)"
   ]
  }
 ],
 "metadata": {
  "kernelspec": {
   "display_name": "Python 3",
   "language": "python",
   "name": "python3"
  },
  "language_info": {
   "codemirror_mode": {
    "name": "ipython",
    "version": 3
   },
   "file_extension": ".py",
   "mimetype": "text/x-python",
   "name": "python",
   "nbconvert_exporter": "python",
   "pygments_lexer": "ipython3",
   "version": "3.7.10"
  }
 },
 "nbformat": 4,
 "nbformat_minor": 5
}
